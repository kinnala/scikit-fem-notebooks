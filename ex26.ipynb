{
 "cells": [
  {
   "cell_type": "code",
   "execution_count": null,
   "metadata": {},
   "outputs": [],
   "source": [
    "!pip install scikit-fem[all]"
   ]
  },
  {
   "cell_type": "markdown",
   "metadata": {},
   "source": [
    "# Restricting a problem to a subdomain\n",
    "\n",
    "The `ex17.py` example solved the steady-state heat equation with uniform\n",
    "volumetric heating in a central core surrounded by an annular insulating layer\n",
    "of lower thermal conductivity.  Here, the problem is completely restricted to\n",
    "the core, taking the temperature as zero throughout the annulus.\n",
    "\n",
    "Thus the problem reduces to the same Poisson equation with uniform forcing and\n",
    "homogeneous Dirichlet conditions:\n",
    "\n",
    ".. math::\n",
    "   \\nabla\\cdot(k\\nabla T) + A  = 0, \\qquad 0 < r < a\n",
    "with\n",
    "\n",
    ".. math::\n",
    "   T = 0, \\qquad\\text{on}\\quad r = a.\n",
    "The exact solution is\n",
    "\n",
    ".. math::\n",
    "   T = \\frac{s}{4k}(a^2 - r^2).\n",
    "\n",
    "The novelty here is that the temperature is defined as a finite element function\n",
    "throughout the mesh (:math:`r < b`) but only solved on a subdomain.\n",
    "\n"
   ]
  },
  {
   "cell_type": "code",
   "execution_count": null,
   "metadata": {},
   "outputs": [],
   "source": [
    "\n",
    "from skfem import *\n",
    "from skfem.models.poisson import laplace, unit_load\n",
    "\n",
    "import numpy as np\n",
    "\n",
    "from .ex17 import mesh, basis, radii, joule_heating, thermal_conductivity\n",
    "\n",
    "\n",
    "annulus = np.unique(basis.element_dofs[:, mesh.subdomains['annulus']])\n",
    "temperature = basis.zeros()\n",
    "core = basis.complement_dofs(annulus)\n",
    "core_basis = Basis(mesh, basis.elem, elements=mesh.subdomains['core'])\n",
    "L = asm(laplace, core_basis)\n",
    "f = asm(unit_load, core_basis)\n",
    "temperature = solve(*condense(thermal_conductivity['core'] * L,\n",
    "                              joule_heating * f,\n",
    "                              D=annulus))\n",
    "\n",
    "T0 = {\n",
    "    \"skfem\": (basis.probes(np.zeros((2, 1))) @ temperature)[0],\n",
    "    \"exact\": joule_heating * radii[0] ** 2 / 4 / thermal_conductivity[\"core\"],\n",
    "}\n",
    "\n",
    "\n",
    "if __name__ == '__main__':\n",
    "    from os.path import splitext\n",
    "    from sys import argv\n",
    "    from skfem.visuals.matplotlib import draw, plot\n",
    "\n",
    "    ax = draw(mesh)\n",
    "    plot(mesh, temperature[basis.nodal_dofs.flatten()],\n",
    "         ax=ax, colorbar=True)\n",
    "    ax.get_figure().savefig(splitext(argv[0])[0] + '_solution.png')\n"
   ]
  }
 ],
 "metadata": {},
 "nbformat": 4,
 "nbformat_minor": 4
}
