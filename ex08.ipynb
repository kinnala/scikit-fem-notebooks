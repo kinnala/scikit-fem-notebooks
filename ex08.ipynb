{
 "cells": [
  {
   "cell_type": "code",
   "execution_count": null,
   "metadata": {},
   "outputs": [],
   "source": [
    "!pip install scikit-fem[all]"
   ]
  },
  {
   "cell_type": "markdown",
   "metadata": {},
   "source": [
    "# Visualize Argyris basis\n",
    "\n"
   ]
  },
  {
   "cell_type": "code",
   "execution_count": null,
   "metadata": {},
   "outputs": [],
   "source": [
    "\n",
    "from skfem import *\n",
    "import numpy as np\n",
    "\n",
    "m = MeshTri.init_sqsymmetric()\n",
    "e = ElementTriArgyris()\n",
    "\n",
    "ib = Basis(m, e, intorder=5)\n",
    "\n",
    "def visualize():\n",
    "    import matplotlib.pyplot as plt\n",
    "    from skfem.visuals.matplotlib import plot, draw\n",
    "    f, axes = plt.subplots(3,3)\n",
    "\n",
    "    ixs = [(0,0),(0,1),(0,2),(1,0),(1,2),(2,0)]\n",
    "    i = 0\n",
    "\n",
    "    for itr in ib.nodal_dofs[:,4]:\n",
    "        axi = axes[ixs[i]]\n",
    "        axi.set_axis_off()\n",
    "        X = ib.zeros()\n",
    "        X[itr] = 1.0\n",
    "        plot(ib, X, Nrefs=5, shading='gouraud', ax=axi)\n",
    "        axi.set_aspect('equal')\n",
    "        i += 1\n",
    "\n",
    "    axi = axes[(1,1)]\n",
    "    axi.set_axis_off()\n",
    "    draw(m, ax=axi)\n",
    "    axi.set_aspect('equal')\n",
    "\n",
    "    axi = axes[(2,1)]\n",
    "    axi.set_axis_off()\n",
    "    X = ib.zeros()\n",
    "    X[np.array([56,59,64,66])] = 1.0\n",
    "    plot(ib, X, Nrefs=5, shading='gouraud', ax=axi)\n",
    "    axi.set_aspect('equal')\n",
    "\n",
    "    axi = axes[(2,2)]\n",
    "    axi.set_axis_off()\n",
    "    X = ib.zeros()\n",
    "    X[np.array([58,61,63,65])] = 1.0\n",
    "    plot(ib, X, Nrefs=5, shading='gouraud', ax=axi)\n",
    "    axi.set_aspect('equal')\n",
    "\n",
    "    return axi\n",
    "\n",
    "if __name__ == \"__main__\":\n",
    "    visualize().show()\n"
   ]
  }
 ],
 "metadata": {},
 "nbformat": 4,
 "nbformat_minor": 4
}
