{
 "cells": [
  {
   "cell_type": "code",
   "execution_count": null,
   "metadata": {},
   "outputs": [],
   "source": [
    "!pip install scikit-fem[all]"
   ]
  },
  {
   "cell_type": "markdown",
   "metadata": {},
   "source": [
    "# Mixed Poisson equation and Raviart-Thomas basis\n",
    "\n"
   ]
  },
  {
   "cell_type": "code",
   "execution_count": null,
   "metadata": {},
   "outputs": [],
   "source": [
    "\n",
    "import numpy as np\n",
    "from skfem import *\n",
    "from skfem.helpers import dot, div\n",
    "\n",
    "\n",
    "p = np.linspace(0, 1, 10)\n",
    "m = MeshTet.init_tensor(*(p,) * 3)\n",
    "\n",
    "e = ElementTetRT0() * ElementTetP0()\n",
    "basis = Basis(m, e)\n",
    "\n",
    "\n",
    "@BilinearForm\n",
    "def bilinf(sigma, u, tau, v, w):\n",
    "    return dot(sigma, tau) + div(sigma) * v + div(tau) * u\n",
    "\n",
    "\n",
    "@LinearForm\n",
    "def linf(tau, v, w):\n",
    "    return - 1. * v\n",
    "\n",
    "\n",
    "A = asm(bilinf, basis)\n",
    "b = asm(linf, basis)\n",
    "x = solve(A, b)\n",
    "\n",
    "(sigma, rtbasis), (u, ubasis) = basis.split(x)\n",
    "M, X = ubasis.refinterp(u, Nrefs=0)\n",
    "\n",
    "if __name__ == \"__main__\":\n",
    "    M.save('ex37.vtk', {'sol': X})\n"
   ]
  }
 ],
 "metadata": {},
 "nbformat": 4,
 "nbformat_minor": 4
}
