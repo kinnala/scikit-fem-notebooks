{
 "cells": [
  {
   "cell_type": "code",
   "execution_count": null,
   "metadata": {},
   "outputs": [],
   "source": [
    "!pip install scikit-fem[all]"
   ]
  },
  {
   "cell_type": "markdown",
   "metadata": {},
   "source": [
    "# Curved elements\n",
    "\n",
    "This example solves the eigenvalue problem\n",
    "\n",
    ".. math::\n",
    "   -\\Delta u = \\lambda u \\quad \\text{in $\\Omega$},\n",
    "with the boundary condition :math:`u|_{\\partial \\Omega} = 0` using isoparametric\n",
    "mapping via biquadratic basis and finite element approximation using fifth-order\n",
    "quadrilaterals.\n",
    "\n"
   ]
  },
  {
   "cell_type": "code",
   "execution_count": null,
   "metadata": {},
   "outputs": [],
   "source": [
    "\n",
    "from skfem import *\n",
    "from skfem.models.poisson import laplace, mass\n",
    "import numpy as np\n",
    "\n",
    "\n",
    "p = np.array([[0.  ,  1.  ,  1.  ,  0.  ,  0.5 ,  0.  ,  1.  ,  0.5 ,  0.5 ,\n",
    "               0.25, -0.1 ,  0.75,  0.9 ,  1.1 ,  0.75,  0.1 ,  0.25,  0.5 ,\n",
    "               0.25,  0.75,  0.5 ,  0.25,  0.75,  0.75,  0.25],\n",
    "              [0.  ,  0.  ,  1.  ,  1.  ,  0.  ,  0.5 ,  0.5 ,  1.  ,  0.5 ,\n",
    "               0.1 ,  0.25, -0.1 ,  0.25,  0.75,  0.9 ,  0.75,  1.1 ,  0.25,\n",
    "               0.5 ,  0.5 ,  0.75,  0.25,  0.25,  0.75,  0.75]])\n",
    "\n",
    "t = np.array([[ 0,  4,  8,  5],\n",
    "              [ 4,  1,  6,  8],\n",
    "              [ 8,  6,  2,  7],\n",
    "              [ 5,  8,  7,  3],\n",
    "              [ 9, 11, 19, 18],\n",
    "              [17, 12, 13, 20],\n",
    "              [18, 19, 14, 16],\n",
    "              [10, 17, 20, 15],\n",
    "              [21, 22, 23, 24]])\n",
    "\n",
    "m = MeshQuad2(p, t)\n",
    "e = ElementQuadP(5)\n",
    "\n",
    "# create mapping for the finite element approximation and assemble\n",
    "basis = Basis(m, e)\n",
    "\n",
    "A = asm(laplace, basis)\n",
    "M = asm(mass, basis)\n",
    "\n",
    "L, x = solve(*condense(A, M, D=basis.get_dofs()), solver=solver_eigen_scipy_sym(k=8))\n",
    "\n",
    "if __name__ == '__main__':\n",
    "\n",
    "    from os.path import splitext\n",
    "    from sys import argv\n",
    "    name = splitext(argv[0])[0]\n",
    "\n",
    "    from skfem.visuals.matplotlib import *\n",
    "    ax = draw(m)\n",
    "    plot(basis, x[:, 6], Nrefs=6, ax=ax)\n",
    "    savefig(f'{name}_eigenmode.png')\n"
   ]
  }
 ],
 "metadata": {},
 "nbformat": 4,
 "nbformat_minor": 4
}
