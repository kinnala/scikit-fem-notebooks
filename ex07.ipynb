{
 "cells": [
  {
   "cell_type": "code",
   "execution_count": null,
   "metadata": {},
   "outputs": [],
   "source": [
    "!pip install scikit-fem[all]"
   ]
  },
  {
   "cell_type": "markdown",
   "metadata": {},
   "source": [
    "# Discontinuous Galerkin method\n",
    "\n"
   ]
  },
  {
   "cell_type": "code",
   "execution_count": null,
   "metadata": {},
   "outputs": [],
   "source": [
    "\n",
    "from skfem import *\n",
    "from skfem.helpers import grad, dot, jump\n",
    "from skfem.models.poisson import laplace, unit_load\n",
    "\n",
    "m = MeshTri.init_sqsymmetric().refined()\n",
    "e = ElementTriDG(ElementTriP4())\n",
    "alpha = 1e-3\n",
    "\n",
    "ib = Basis(m, e)\n",
    "bb = FacetBasis(m, e)\n",
    "fb = [InteriorFacetBasis(m, e, side=i) for i in [0, 1]]\n",
    "\n",
    "@BilinearForm\n",
    "def dgform(u, v, p):\n",
    "    ju, jv = jump(p, u, v)\n",
    "    h = p.h\n",
    "    n = p.n\n",
    "    return ju * jv / (alpha * h) - dot(grad(u), n) * jv - dot(grad(v), n) * ju\n",
    "\n",
    "@BilinearForm\n",
    "def nitscheform(u, v, p):\n",
    "    h = p.h\n",
    "    n = p.n\n",
    "    return u * v / (alpha * h) - dot(grad(u), n) * v - dot(grad(v), n) * u\n",
    "\n",
    "A = asm(laplace, ib)\n",
    "B = asm(dgform, fb, fb)\n",
    "C = asm(nitscheform, bb)\n",
    "b = asm(unit_load, ib)\n",
    "\n",
    "x = solve(A + B + C, b)\n",
    "\n",
    "M, X = ib.refinterp(x, 4)\n",
    "\n",
    "def visualize():\n",
    "    from skfem.visuals.matplotlib import plot, draw\n",
    "    ax = draw(M, boundaries_only=True)\n",
    "    return plot(M, X, shading=\"gouraud\", ax=ax, colorbar=True)\n",
    "\n",
    "if __name__ == \"__main__\":\n",
    "    visualize().show()\n"
   ]
  }
 ],
 "metadata": {},
 "nbformat": 4,
 "nbformat_minor": 4
}
