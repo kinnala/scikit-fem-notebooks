{
 "cells": [
  {
   "cell_type": "code",
   "execution_count": null,
   "metadata": {},
   "outputs": [],
   "source": [
    "!pip install scikit-fem[all]"
   ]
  },
  {
   "cell_type": "markdown",
   "metadata": {},
   "source": [
    "# Periodic meshes\n",
    "\n",
    "When working with periodic boundary conditions, it may be more convenient to\n",
    "use a periodic mesh rather than to explicitly force the periodicity on the\n",
    "linear algebra level.  This example defines a \"discontinuous mesh topology\"\n",
    "using :class:`~skfem.mesh.MeshTri1DG`.  In practice this means that the\n",
    "local-to-global reference mapping is not done through an affine mapping but\n",
    "through the isoparametric mapping of a discontinuous P1 finite element.\n",
    "In the mesh data structure the vertices of the mesh are repeated even if shared\n",
    "across multiple elements through the degrees-of-freedom.\n",
    "\n",
    "In this example we solve the advection equation with a Gaussian source in the\n",
    "middle of a unit square.  The mesh is periodic from right-to-left so that the\n",
    "resulting solution is also periodic.\n",
    "\n"
   ]
  },
  {
   "cell_type": "code",
   "execution_count": null,
   "metadata": {},
   "outputs": [],
   "source": [
    "\n",
    "import numpy as np\n",
    "\n",
    "from skfem import *\n",
    "from skfem.models import laplace\n",
    "\n",
    "\n",
    "@BilinearForm\n",
    "def advection(u, v, _):\n",
    "    return v * u.grad[0]\n",
    "\n",
    "\n",
    "@LinearForm\n",
    "def source(v, w):\n",
    "    x = w.x - .5\n",
    "    return v * np.exp(-1e3 * (x[0] ** 2 + x[1] ** 2))\n",
    "\n",
    "\n",
    "# nonperiodic mesh\n",
    "m = MeshTri.init_symmetric().refined(5)\n",
    "\n",
    "# create a periodic mesh\n",
    "Mp = MeshTri1DG.periodic(\n",
    "    m,\n",
    "    m.nodes_satisfying(lambda x: x[0] == 1),\n",
    "    m.nodes_satisfying(lambda x: x[0] == 0),\n",
    ")\n",
    "\n",
    "peclet = 1e2\n",
    "\n",
    "basis = Basis(Mp, ElementTriP2())\n",
    "A = laplace.assemble(basis) + peclet * advection.assemble(basis)\n",
    "f = source.assemble(basis)\n",
    "\n",
    "D = basis.get_dofs()\n",
    "x = solve(*condense(A, f, D=D))\n",
    "\n",
    "if __name__ == '__main__':\n",
    "    from os.path import splitext\n",
    "    from sys import argv\n",
    "    from skfem.visuals.matplotlib import plot, savefig\n",
    "    plot(basis, x, shading='gouraud')\n",
    "    savefig(splitext(argv[0])[0] + '_solution.png')\n"
   ]
  }
 ],
 "metadata": {},
 "nbformat": 4,
 "nbformat_minor": 4
}
