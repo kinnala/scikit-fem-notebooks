{
 "cells": [
  {
   "cell_type": "code",
   "execution_count": null,
   "metadata": {},
   "outputs": [],
   "source": [
    "!pip install scikit-fem[all]"
   ]
  },
  {
   "cell_type": "markdown",
   "metadata": {},
   "source": [
    "# Poisson equation with unit load\n",
    "\n"
   ]
  },
  {
   "cell_type": "code",
   "execution_count": null,
   "metadata": {},
   "outputs": [],
   "source": [
    "\n",
    "from skfem import *\n",
    "from skfem.helpers import dot, grad\n",
    "\n",
    "# # enable additional mesh validity checks, sacrificing performance\n",
    "# import logging\n",
    "# logging.basicConfig(format='%(levelname)s %(asctime)s %(name)s %(message)s')\n",
    "# logging.getLogger('skfem').setLevel(logging.DEBUG)\n",
    "\n",
    "# create the mesh\n",
    "m = MeshTri().refined(6)\n",
    "# or, with your own points and cells:\n",
    "# m = MeshTri(points, cells)\n",
    "\n",
    "e = ElementTriP1()\n",
    "basis = Basis(m, e)\n",
    "\n",
    "# this method could also be imported from skfem.models.laplace\n",
    "@BilinearForm\n",
    "def laplace(u, v, _):\n",
    "    return dot(grad(u), grad(v))\n",
    "\n",
    "\n",
    "# this method could also be imported from skfem.models.unit_load\n",
    "@LinearForm\n",
    "def rhs(v, _):\n",
    "    return 1.0 * v\n",
    "\n",
    "A = asm(laplace, basis)\n",
    "b = asm(rhs, basis)\n",
    "# or:\n",
    "# A = laplace.assemble(basis)\n",
    "# b = rhs.assemble(basis)\n",
    "\n",
    "# enforce Dirichlet boundary conditions\n",
    "A, b = enforce(A, b, D=m.boundary_nodes())\n",
    "\n",
    "# solve -- can be anything that takes a sparse matrix and a right-hand side\n",
    "x = solve(A, b)\n",
    "\n",
    "def visualize():\n",
    "    from skfem.visuals.matplotlib import plot\n",
    "    return plot(m, x, shading='gouraud', colorbar=True)\n",
    "\n",
    "if __name__ == \"__main__\":\n",
    "    visualize().show()\n"
   ]
  }
 ],
 "metadata": {},
 "nbformat": 4,
 "nbformat_minor": 4
}
