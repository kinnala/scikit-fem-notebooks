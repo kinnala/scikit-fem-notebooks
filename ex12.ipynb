{
 "cells": [
  {
   "cell_type": "code",
   "execution_count": null,
   "metadata": {},
   "outputs": [],
   "source": [
    "!pip install scikit-fem[all]"
   ]
  },
  {
   "cell_type": "markdown",
   "metadata": {},
   "source": [
    "# Postprocessing Laplace equation\n",
    "\n",
    "A basic postprocessing step in finite element analysis is evaluating linear\n",
    "forms over the solution. For the Poisson equation, the integral\n",
    "of the solution (normalized by the area) is the 'Boussinesq k-factor'; for\n",
    "the square it's roughly 0.03514, for the circle 1/Pi/8 = 0.03979. Linear forms\n",
    "are easily evaluated in skfem using the 1-D arrays assembled using the\n",
    "@LinearForm decorator. In :ref:`poisson`, the linear form required for simple\n",
    "integration happens to be the same one used on the right-hand side of the\n",
    "differential equation, so it's already to hand.\n",
    "\n",
    "Another is interpolation; i.e. evaluation of the solution at a\n",
    "specified point which isn't necessarily a node of the mesh.  For this\n",
    "problem, the maximum of the solution (normalized by the area) is the\n",
    "'Boussinesq k'-factor'; by symmetry, this occurs for squares (k' =\n",
    "0.07363) and circles (k' = 1/Pi/4) at the centre and so can be\n",
    "evaluated by interpolation.\n",
    "\n"
   ]
  },
  {
   "cell_type": "code",
   "execution_count": null,
   "metadata": {},
   "outputs": [],
   "source": [
    "\n",
    "from pathlib import Path\n",
    "\n",
    "from skfem import *\n",
    "from skfem.models.poisson import laplace, unit_load\n",
    "from skfem.io.json import from_file\n",
    "\n",
    "import numpy as np\n",
    "\n",
    "m = MeshTri.init_circle(4)\n",
    "\n",
    "basis = Basis(m, ElementTriP2())\n",
    "\n",
    "A = asm(laplace, basis)\n",
    "b = asm(unit_load, basis)\n",
    "\n",
    "x = solve(*condense(A, b, D=basis.get_dofs()))\n",
    "\n",
    "area = sum(b)\n",
    "k = b @ x / area**2\n",
    "k1, = basis.probes(np.zeros((2, 1))) @ x / area\n",
    "\n",
    "def visualize():\n",
    "    from skfem.visuals.matplotlib import plot\n",
    "    return plot(basis, x, shading='gouraud', colorbar=True)\n",
    "\n",
    "if __name__ == '__main__':\n",
    "    print('area = {:.4f} (exact = {:.4f})'.format(area, np.pi))\n",
    "    print('k = {:.5f} (exact = 1/8/pi = {:.5f})'.format(k, 1/np.pi/8))\n",
    "    print(\"k' = {:.5f} (exact = 1/4/pi = {:.5f})\".format(k1, 1/np.pi/4))\n",
    "    visualize().show()\n"
   ]
  }
 ],
 "metadata": {},
 "nbformat": 4,
 "nbformat_minor": 4
}
