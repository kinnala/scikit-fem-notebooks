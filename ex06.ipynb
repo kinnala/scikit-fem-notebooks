{
 "cells": [
  {
   "cell_type": "code",
   "execution_count": null,
   "metadata": {},
   "outputs": [],
   "source": [
    "!pip install scikit-fem[all]"
   ]
  },
  {
   "cell_type": "markdown",
   "metadata": {},
   "source": [
    "# High-order plotting\n",
    "\n",
    "This simple example demonstrates the usage and visualisation of biquadratic\n",
    "finite element basis. Many plotting tools, including matplotlib, provide tools\n",
    "for visualising piecewise-linear triangular fields. Visualisation of\n",
    "higher-order basis functions cannot be done directly and the mesh should be\n",
    "further refined just for visualisation purposes.\n",
    "\n",
    ":class:`~skfem.assembly.CellBasis` object includes the method\n",
    ":meth:`~skfem.assembly.CellBasis.refinterp` which refines and simultaneously\n",
    "interpolates any solution vector. The resulting mesh is non-conforming,\n",
    "i.e. the connectivity between neighboring elements is lost, and hence it can\n",
    "be used only for visualisation purposes.\n",
    "\n",
    ".. note::\n",
    "\n",
    "   As of 0.4.0, this functionality is included in :func:`~skfem.visuals.matplotlib.plot`,\n",
    "   i.e. inputting :class:`~skfem.assembly.CellBasis` instead of :class:`~skfem.mesh.Mesh`\n",
    "   uses :meth:`~skfem.assembly.CellBasis.refinterp` automatically.\n",
    "   The steps in this example are still useful when, e.g., exporting to different\n",
    "   formats for visualization purposes.\n",
    "\n",
    "As an example, we solve the Poisson equation in a unit square with zero boundary\n",
    "conditions and biquadratic basis on quadrilateral elements. The quadrilateral\n",
    "elements are defined using an isoparametric local-to-global mapping.\n",
    "\n"
   ]
  },
  {
   "cell_type": "code",
   "execution_count": null,
   "metadata": {},
   "outputs": [],
   "source": [
    "\n",
    "from skfem import *\n",
    "from skfem.models.poisson import laplace, unit_load\n",
    "\n",
    "m = MeshQuad().refined(2)\n",
    "\n",
    "e1 = ElementQuad1()\n",
    "e = ElementQuad2()\n",
    "mapping = MappingIsoparametric(m, e1)\n",
    "ib = Basis(m, e, mapping, 4)\n",
    "\n",
    "K = asm(laplace, ib)\n",
    "\n",
    "f = asm(unit_load, ib)\n",
    "\n",
    "x = solve(*condense(K, f, D=ib.get_dofs()))\n",
    "\n",
    "M, X = ib.refinterp(x, 3)\n",
    "\n",
    "if __name__ == \"__main__\":\n",
    "    from os.path import splitext\n",
    "    from sys import argv\n",
    "    from skfem.visuals.matplotlib import *\n",
    "    ax = draw(m)\n",
    "    plot(M, X, ax=ax, shading='gouraud')\n",
    "    savefig(splitext(argv[0])[0] + '_solution.png')\n"
   ]
  }
 ],
 "metadata": {},
 "nbformat": 4,
 "nbformat_minor": 4
}
