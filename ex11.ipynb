{
 "cells": [
  {
   "cell_type": "code",
   "execution_count": null,
   "metadata": {},
   "outputs": [],
   "source": [
    "!pip install scikit-fem[all]"
   ]
  },
  {
   "cell_type": "markdown",
   "metadata": {},
   "source": [
    "# Linear elasticity\n",
    "\n",
    "This example solves the linear elasticity problem using trilinear elements.\n",
    "The weak form of the linear elasticity problem is defined in\n",
    ":func:`skfem.models.elasticity.linear_elasticity`.\n",
    "\n"
   ]
  },
  {
   "cell_type": "code",
   "execution_count": null,
   "metadata": {},
   "outputs": [],
   "source": [
    "\n",
    "import numpy as np\n",
    "from skfem import *\n",
    "from skfem.models.elasticity import linear_elasticity, lame_parameters\n",
    "\n",
    "m = MeshHex().refined(3)\n",
    "e1 = ElementHex1()\n",
    "e = ElementVectorH1(e1)\n",
    "ib = Basis(m, e, MappingIsoparametric(m, e1), 3)\n",
    "\n",
    "K = asm(linear_elasticity(*lame_parameters(1e3, 0.3)), ib)\n",
    "\n",
    "dofs = {\n",
    "    'left' : ib.get_dofs(lambda x: x[0] == 0.0),\n",
    "    'right': ib.get_dofs(lambda x: x[0] == 1.0),\n",
    "}\n",
    "\n",
    "u = ib.zeros()\n",
    "u[dofs['right'].nodal['u^1']] = 0.3\n",
    "\n",
    "I = ib.complement_dofs(dofs)\n",
    "\n",
    "u = solve(*condense(K, x=u, I=I))\n",
    "\n",
    "sf = 1.0\n",
    "m = m.translated(sf * u[ib.nodal_dofs])\n",
    "\n",
    "if __name__ == \"__main__\":\n",
    "    from os.path import splitext\n",
    "    from sys import argv\n",
    "    \n",
    "    m.save(splitext(argv[0])[0] + '.vtk')\n"
   ]
  }
 ],
 "metadata": {},
 "nbformat": 4,
 "nbformat_minor": 4
}
