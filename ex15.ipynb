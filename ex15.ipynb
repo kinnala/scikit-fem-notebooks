{
 "cells": [
  {
   "cell_type": "code",
   "execution_count": null,
   "metadata": {},
   "outputs": [],
   "source": [
    "!pip install scikit-fem[all]"
   ]
  },
  {
   "cell_type": "markdown",
   "metadata": {},
   "source": [
    "# One-dimensional Poisson equation\n",
    "\n"
   ]
  },
  {
   "cell_type": "code",
   "execution_count": null,
   "metadata": {},
   "outputs": [],
   "source": [
    "\n",
    "import numpy as np\n",
    "from skfem import *\n",
    "from skfem.models.poisson import laplace, unit_load\n",
    "\n",
    "m = MeshLine(np.linspace(0, 1, 10))\n",
    "\n",
    "e = ElementLineP1()\n",
    "basis = Basis(m, e)\n",
    "\n",
    "A = asm(laplace, basis)\n",
    "b = asm(unit_load, basis)\n",
    "\n",
    "x = solve(*condense(A, b, D=basis.get_dofs()))\n",
    "\n",
    "if __name__ == \"__main__\":\n",
    "    from skfem.visuals.matplotlib import plot, show\n",
    "    plot(m, x)\n",
    "    show()\n"
   ]
  }
 ],
 "metadata": {},
 "nbformat": 4,
 "nbformat_minor": 4
}
