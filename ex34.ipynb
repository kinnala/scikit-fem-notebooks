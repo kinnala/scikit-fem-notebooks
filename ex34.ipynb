{
 "cells": [
  {
   "cell_type": "code",
   "execution_count": null,
   "metadata": {},
   "outputs": [],
   "source": [
    "!pip install scikit-fem[all]"
   ]
  },
  {
   "cell_type": "markdown",
   "metadata": {},
   "source": [
    "# Euler-Bernoulli beam\n",
    "\n",
    "This example solves the Euler-Bernoulli beam equation\n",
    "\n",
    ".. math::\n",
    "   (EI u'')'' = 1 \\quad \\text{in $[0,1]$},\n",
    "with the boundary conditions\n",
    ":math:`u(0)=u'(0) = 0` and using cubic Hermite elements.\n",
    "The analytical solution gives :math:`u(1)=1/8`.\n",
    "\n"
   ]
  },
  {
   "cell_type": "code",
   "execution_count": null,
   "metadata": {},
   "outputs": [],
   "source": [
    "\n",
    "from skfem import *\n",
    "\n",
    "m = MeshLine().refined(3).with_boundaries({\"left\": lambda x: x[0] == 0})\n",
    "e = ElementLineHermite()\n",
    "basis = Basis(m, e)\n",
    "\n",
    "@BilinearForm\n",
    "def bilinf(u, v, w):\n",
    "    from skfem.helpers import dd, ddot\n",
    "    return ddot(dd(u), dd(v))\n",
    "\n",
    "@LinearForm\n",
    "def linf(v, w):\n",
    "    return 1.0 * v\n",
    "\n",
    "A = asm(bilinf, basis)\n",
    "f = asm(linf, basis)\n",
    "\n",
    "D = basis.get_dofs(\"left\")\n",
    "\n",
    "x = solve(*condense(A, f, D=D))\n",
    "\n",
    "# compare to analytical solution\n",
    "err = max(x[basis.nodal_dofs[0]]) - 1. / 8.\n",
    "print(err)\n",
    "\n",
    "if __name__ == '__main__':\n",
    "\n",
    "    from os.path import splitext\n",
    "    from sys import argv\n",
    "    name = splitext(argv[0])[0]\n",
    "\n",
    "    from skfem.visuals.matplotlib import *\n",
    "    plot(basis, x, Nrefs=3)\n",
    "    savefig(f'{name}_solution.png')\n"
   ]
  }
 ],
 "metadata": {},
 "nbformat": 4,
 "nbformat_minor": 4
}
