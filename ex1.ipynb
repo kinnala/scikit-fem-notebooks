{
 "cells": [
  {
   "cell_type": "markdown",
   "metadata": {},
   "source": [
    "# Tutorial for scikit-fem"
   ]
  },
  {
   "cell_type": "markdown",
   "metadata": {},
   "source": [
    "Run the following cell to install dependencies:"
   ]
  },
  {
   "cell_type": "code",
   "execution_count": null,
   "metadata": {},
   "outputs": [],
   "source": [
    "!pip install scikit-fem[all]"
   ]
  },
  {
   "cell_type": "markdown",
   "metadata": {},
   "source": [
    "# Create mesh"
   ]
  },
  {
   "cell_type": "code",
   "execution_count": null,
   "metadata": {},
   "outputs": [],
   "source": [
    "import numpy as np\n",
    "from skfem import *\n",
    "\n",
    "m = MeshTri().refined(4)\n",
    "# one dimensional\n",
    "# m = MeshLine(np.linspace(0, 1, 15))\n",
    "# quadrilateral tensor product\n",
    "# m = MeshQuad.init_tensor(np.linspace(0, 2, 5), np.linspace(0, 1, 3))\n",
    "# tetrahedral cube\n",
    "# m = MeshTet().refined()\n",
    "\n",
    "# or, with your own points and elements:\n",
    "# m = MeshTri(points, elements)\n",
    "\n",
    "# or, load from external format:\n",
    "# m = MeshTri.load(\"doesnotexist.msh\")\n",
    "\n",
    "# visualize?\n",
    "from skfem.visuals.matplotlib import draw\n",
    "draw(m)"
   ]
  },
  {
   "cell_type": "markdown",
   "metadata": {},
   "source": [
    "# Define the finite element"
   ]
  },
  {
   "cell_type": "code",
   "execution_count": null,
   "metadata": {},
   "outputs": [],
   "source": [
    "e = ElementTriP1()\n",
    "# e = ElementTriP2()  # quadratic\n",
    "# e = ElementTriP3()  # cubic\n",
    "# e = ElementQuad1()  # for quadratic meshes\n",
    "# e = ElementTetP1()  # for tetrahedral meshes\n",
    "\n",
    "# precompute global basis at quadrature points\n",
    "basis = Basis(m, e)  # shorthand for CellBasis\n",
    "\n",
    "# specify integration order\n",
    "# basis = Basis(m, e, intorder=2)\n",
    "\n",
    "# to integrate over the boundary use\n",
    "# fbasis = FacetBasis(m, e)\n",
    "\n",
    "basis"
   ]
  },
  {
   "cell_type": "markdown",
   "metadata": {},
   "source": [
    "# Define the forms"
   ]
  },
  {
   "cell_type": "code",
   "execution_count": null,
   "metadata": {},
   "outputs": [],
   "source": [
    "from skfem.helpers import dot, grad\n",
    "\n",
    "@BilinearForm\n",
    "def laplace(u, v, w):\n",
    "    # w contains keys such as\n",
    "    # - the mesh parameter w.h\n",
    "    # - global coordinates w.x\n",
    "    # - (for FacetBasis) the normal vector w.n\n",
    "    return dot(grad(u), grad(v))\n",
    "    # can be also written without helpers:\n",
    "    # return u.grad[0] * v.grad[0] + u.grad[1] * v.grad[1]\n",
    "\n",
    "@LinearForm\n",
    "def rhs(v, w):\n",
    "    return 1.0 * v\n",
    "    # location dependent load:\n",
    "    # return np.sin(2. * np.pi * w.x[0]) * v"
   ]
  },
  {
   "cell_type": "markdown",
   "metadata": {},
   "source": [
    "# Assemble and solve the linear system"
   ]
  },
  {
   "cell_type": "code",
   "execution_count": null,
   "metadata": {},
   "outputs": [],
   "source": [
    "A = laplace.assemble(basis)\n",
    "b = rhs.assemble(basis)\n",
    "\n",
    "# enforce Dirichlet boundary conditions\n",
    "\n",
    "# on all boundary DOFs\n",
    "D = basis.get_dofs()\n",
    "\n",
    "# only left and right boundaries\n",
    "# D = basis.get_dofs(lambda x: (x[0] == 0.) + (x[0] == 1.))\n",
    "\n",
    "# for tagged meshes\n",
    "# D = basis.get_dofs(('left', 'right'))\n",
    "\n",
    "A, b = enforce(A, b, D=D)\n",
    "\n",
    "# solve using scipy sparse solver\n",
    "x = solve(A, b)"
   ]
  },
  {
   "cell_type": "markdown",
   "metadata": {},
   "source": [
    "# Visualize the solution"
   ]
  },
  {
   "cell_type": "code",
   "execution_count": null,
   "metadata": {},
   "outputs": [],
   "source": [
    "# plot the solution\n",
    "from skfem.visuals.matplotlib import plot\n",
    "plot(basis, x, shading='gouraud', colorbar=True)\n",
    "\n",
    "# save to VTK for visualizing with ParaView:\n",
    "# m.save('file.vtk', point_data={'x': x})"
   ]
  },
  {
   "cell_type": "markdown",
   "metadata": {},
   "source": [
    "Check the [gallery](https://scikit-fem.readthedocs.io/en/latest/listofexamples.html) for more examples."
   ]
  }
 ],
 "metadata": {
  "kernelspec": {
   "display_name": "Python 3",
   "language": "python",
   "name": "python3"
  },
  "language_info": {
   "codemirror_mode": {
    "name": "ipython",
    "version": 3
   },
   "file_extension": ".py",
   "mimetype": "text/x-python",
   "name": "python",
   "nbconvert_exporter": "python",
   "pygments_lexer": "ipython3",
   "version": "3.8.3"
  }
 },
 "nbformat": 4,
 "nbformat_minor": 4
}
