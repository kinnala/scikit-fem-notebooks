{
 "cells": [
  {
   "cell_type": "markdown",
   "metadata": {},
   "source": [
    "Run the following cell to install dependencies:"
   ]
  },
  {
   "cell_type": "code",
   "execution_count": null,
   "metadata": {},
   "outputs": [],
   "source": [
    "!pip install scikit-fem"
   ]
  },
  {
   "cell_type": "markdown",
   "metadata": {},
   "source": [
    "# Example 1\n",
    "\n",
    "Solve the Poisson problem."
   ]
  },
  {
   "cell_type": "code",
   "execution_count": null,
   "metadata": {},
   "outputs": [],
   "source": [
    "from skfem import *\n",
    "from skfem.helpers import dot, grad\n",
    "\n",
    "# create the mesh\n",
    "m = MeshTri().refined(4)\n",
    "# or, with your own points and cells:\n",
    "# m = MeshTri(points, cells)\n",
    "\n",
    "e = ElementTriP1()\n",
    "basis = Basis(m, e)  # shorthand for CellBasis\n",
    "\n",
    "# this method could also be imported from skfem.models.laplace\n",
    "@BilinearForm\n",
    "def laplace(u, v, _):\n",
    "    return dot(grad(u), grad(v))\n",
    "\n",
    "\n",
    "# this method could also be imported from skfem.models.unit_load\n",
    "@LinearForm\n",
    "def rhs(v, _):\n",
    "    return 1.0 * v\n",
    "\n",
    "A = asm(laplace, basis)\n",
    "b = asm(rhs, basis)\n",
    "# or:\n",
    "# A = laplace.assemble(basis)\n",
    "# b = rhs.assemble(basis)\n",
    "\n",
    "# enforce Dirichlet boundary conditions\n",
    "A, b = enforce(A, b, D=m.boundary_nodes())\n",
    "\n",
    "# solve -- can be anything that takes a sparse matrix and a right-hand side\n",
    "x = solve(A, b)\n",
    "\n",
    "# plot the solution\n",
    "from skfem.visuals.matplotlib import plot\n",
    "plot(m, x, shading='gouraud', colorbar=True)"
   ]
  }
 ],
 "metadata": {
  "kernelspec": {
   "display_name": "Python 3",
   "language": "python",
   "name": "python3"
  },
  "language_info": {
   "codemirror_mode": {
    "name": "ipython",
    "version": 3
   },
   "file_extension": ".py",
   "mimetype": "text/x-python",
   "name": "python",
   "nbconvert_exporter": "python",
   "pygments_lexer": "ipython3",
   "version": "3.8.3"
  }
 },
 "nbformat": 4,
 "nbformat_minor": 4
}
