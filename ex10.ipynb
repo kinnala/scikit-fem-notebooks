{
 "cells": [
  {
   "cell_type": "code",
   "execution_count": null,
   "metadata": {},
   "outputs": [],
   "source": [
    "!pip install scikit-fem[all]"
   ]
  },
  {
   "cell_type": "markdown",
   "metadata": {},
   "source": [
    "# Nonlinear Poisson equation\n",
    "\n",
    "This example solves the nonlinear minimal surface problem using Newton's method.\n",
    "\n"
   ]
  },
  {
   "cell_type": "code",
   "execution_count": null,
   "metadata": {},
   "outputs": [],
   "source": [
    "\n",
    "from skfem import *\n",
    "from skfem.helpers import grad, dot\n",
    "import numpy as np\n",
    "\n",
    "m = MeshTri().refined(5)\n",
    "\n",
    "\n",
    "@BilinearForm\n",
    "def jacobian(u, v, p):\n",
    "    w = p['prev']\n",
    "    return (1 / np.sqrt(1 + dot(grad(w), grad(w))) * dot(grad(u), grad(v))\n",
    "            -2 * dot(grad(u), grad(w)) * dot(grad(w), grad(v))\n",
    "            / 2 / (1 + dot(grad(w), grad(w))) ** (3 / 2))\n",
    "\n",
    "\n",
    "@LinearForm\n",
    "def rhs(v, p):\n",
    "    w = p['prev']\n",
    "    return dot(grad(w), grad(v)) / np.sqrt(1 + dot(grad(w), grad(w)))\n",
    "\n",
    "\n",
    "basis = Basis(m, ElementTriP1())\n",
    "\n",
    "x = basis.zeros()\n",
    "\n",
    "D = m.boundary_nodes()\n",
    "x[D] = np.sin(np.pi * m.p[0, D])\n",
    "\n",
    "for itr in range(100):\n",
    "    w = basis.interpolate(x)\n",
    "    J = asm(jacobian, basis, prev=w)\n",
    "    F = asm(rhs, basis, prev=w)\n",
    "    x_prev = x.copy()\n",
    "    x += 0.7 * solve(*condense(J, -F, D=D))\n",
    "    if np.linalg.norm(x - x_prev) < 1e-8:\n",
    "        break\n",
    "    if __name__ == \"__main__\":\n",
    "        print(np.linalg.norm(x - x_prev))\n",
    "\n",
    "if __name__ == \"__main__\":\n",
    "    from skfem.visuals.matplotlib import plot3, show\n",
    "    plot3(m, x)\n",
    "    show()\n"
   ]
  }
 ],
 "metadata": {},
 "nbformat": 4,
 "nbformat_minor": 4
}
