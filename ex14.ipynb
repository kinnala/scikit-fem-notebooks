{
 "cells": [
  {
   "cell_type": "code",
   "execution_count": null,
   "metadata": {},
   "outputs": [],
   "source": [
    "!pip install scikit-fem[all]"
   ]
  },
  {
   "cell_type": "markdown",
   "metadata": {},
   "source": [
    "# Laplace with inhomogeneous boundary\n",
    "\n",
    "Another simple modification of `ex01.py`, this time showing how\n",
    "to impose coordinate-dependent Dirichlet conditions with\n",
    ":func:`~skfem.utils.condense` and :attr:`~skfem.CellBasis.doflocs`.\n",
    "The forcing term is suppressed for simplicity. The boundary values are\n",
    "set as the real part :math:`x^2 - y^2` of an analytic complex function\n",
    ":math:`(x + \\mathrm i y)^2` which is harmonic and so that is the exact\n",
    "solution through the domain.\n",
    "\n",
    "This is checked quantitatively by computing the integral of the squared\n",
    "magnitude of the gradient, by evaluating the quadratic form associated with the\n",
    "laplacian at the solution; the exact value is 8/3.\n",
    "\n",
    "This code would also work with :func:`~skfem.element.ElementTriP1`, in\n",
    "which case, since the three nodes of the elements coincide with the\n",
    "points of the mesh, the coordinate-dependent Dirichlet conditions\n",
    "could be assigned more directly; however, the present method is\n",
    "recommended as more general.\n",
    "\n"
   ]
  },
  {
   "cell_type": "code",
   "execution_count": null,
   "metadata": {},
   "outputs": [],
   "source": [
    "\n",
    "from skfem import *\n",
    "from skfem.models.poisson import laplace\n",
    "\n",
    "import numpy as np\n",
    "\n",
    "m = MeshTri().refined(4)\n",
    "\n",
    "e = ElementTriP2()\n",
    "basis = Basis(m, e)\n",
    "\n",
    "A = asm(laplace, basis)\n",
    "\n",
    "\n",
    "def dirichlet(x):\n",
    "    \"\"\"return a harmonic function\"\"\"\n",
    "    return ((x[0] + 1.j * x[1]) ** 2).real\n",
    "\n",
    "\n",
    "u = basis.project(dirichlet)\n",
    "u = solve(*condense(A, x=u, D=basis.get_dofs()))\n",
    "\n",
    "\n",
    "def visualize():\n",
    "    from skfem.visuals.matplotlib import plot, show\n",
    "    return plot(basis,\n",
    "                u,\n",
    "                shading='gouraud',\n",
    "                colorbar=True,\n",
    "                levels=5)\n",
    "\n",
    "\n",
    "if __name__ == \"__main__\":\n",
    "    print('||grad u||**2 = {:f} (exact = 8/3 = {:f})'\n",
    "          .format(u @ A @ u, 8/3))\n",
    "    visualize().show()\n"
   ]
  }
 ],
 "metadata": {},
 "nbformat": 4,
 "nbformat_minor": 4
}
