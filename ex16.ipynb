{
 "cells": [
  {
   "cell_type": "code",
   "execution_count": null,
   "metadata": {},
   "outputs": [],
   "source": [
    "!pip install scikit-fem[all]"
   ]
  },
  {
   "cell_type": "markdown",
   "metadata": {},
   "source": [
    "# Spatially varying coefficient\n",
    "\n",
    "This example demonstrates a spatially varying coefficient.\n",
    "\n",
    "Legendre's equation in self-adjoint Sturm–Liouville form is\n",
    "\n",
    ".. math::\n",
    "   \n",
    "  ((1 - x^2) u')' + k u = 0, \\quad (-1 < x < 1)\n",
    "The eigenvalues are :math:`k = n (n + 1)` for :math:`n = 0, 1, 2, \\dots`  The\n",
    "conventional normalization is :math:`u(1) = 1`.\n",
    "\n",
    "The x-coordinate for the spatially varying coefficient :math:`1 - x^2` is\n",
    "accessed inside the bilinear form as `w.x[0]`.\n",
    "\n"
   ]
  },
  {
   "cell_type": "code",
   "execution_count": null,
   "metadata": {},
   "outputs": [],
   "source": [
    "\n",
    "from matplotlib.pyplot import subplots, show\n",
    "import numpy as np\n",
    "from scipy.sparse.linalg import eigsh\n",
    "from scipy.special import legendre\n",
    "\n",
    "from skfem import *\n",
    "from skfem.helpers import d, dot\n",
    "from skfem.models.poisson import mass\n",
    "\n",
    "x = np.linspace(-1, 1)\n",
    "m = MeshLine(x)\n",
    "e = ElementLineP1()\n",
    "basis = Basis(m, e)\n",
    "\n",
    "\n",
    "@BilinearForm\n",
    "def stiffness(u, v, w):\n",
    "    return (1 - w.x[0]**2) * dot(d(u), d(v))\n",
    "\n",
    "\n",
    "L = asm(stiffness, basis)\n",
    "M = asm(mass, basis)\n",
    "\n",
    "ks, u = eigsh(L, M=M, sigma=0.)\n",
    "u /= u[basis.get_dofs().nodal[\"u\"][-1], :]\n",
    "\n",
    "\n",
    "if __name__ == \"__main__\":\n",
    "    fig, ax = subplots()\n",
    "    for n, (k, u) in enumerate(zip(ks, u.T)):\n",
    "        dots, = ax.plot(x, u[basis.nodal_dofs[0]],\n",
    "                        label=n, marker='o', linestyle='None')\n",
    "        ax.plot(x, legendre(n)(x), color=dots.get_color())\n",
    "        print('{:2d}  {:5.2f}'.format(n * (n + 1), k))\n",
    "\n",
    "    ax.legend()\n",
    "    show()\n"
   ]
  }
 ],
 "metadata": {},
 "nbformat": 4,
 "nbformat_minor": 4
}
