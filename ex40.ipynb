{
 "cells": [
  {
   "cell_type": "code",
   "execution_count": null,
   "metadata": {},
   "outputs": [],
   "source": [
    "!pip install scikit-fem[all]"
   ]
  },
  {
   "cell_type": "markdown",
   "metadata": {},
   "source": [
    "# Hybridizable discontinuous Galerkin method\n",
    "\n",
    "This examples solves the Poisson equation with unit load using a technique\n",
    "where the finite element basis is first discontinous across element edges and\n",
    "then the continuity is recovered with the help of Lagrange multipliers defined\n",
    "on the mesh skeleton (i.e. a \"skeleton mesh\" consisting only of the edges of\n",
    "the original mesh).\n",
    "\n",
    "As usual for these so-called \"hybridizable\" methods, the resulting system can\n",
    "be condensed to the skeleton mesh only using Schur's complement.  However, this\n",
    "is not done here as the example is meant to simply demonstrate the use of\n",
    "finite elements defined on the mesh skeleton.\n",
    "\n"
   ]
  },
  {
   "cell_type": "code",
   "execution_count": null,
   "metadata": {},
   "outputs": [],
   "source": [
    "\n",
    "from skfem import *\n",
    "import numpy as np\n",
    "\n",
    "m = MeshTri().refined(3)\n",
    "e = ElementTriP1DG() * ElementTriSkeletonP1()\n",
    "ibasis = Basis(m, e)\n",
    "tbasis = [\n",
    "    *[InteriorFacetBasis(m, e, side=i) for i in [0, 1]],\n",
    "    FacetBasis(m, e)\n",
    "]\n",
    "\n",
    "@BilinearForm\n",
    "def laplace(u, ut, v, vt, w):\n",
    "    from skfem.helpers import grad, dot\n",
    "    return dot(grad(u), grad(v))\n",
    "\n",
    "@BilinearForm\n",
    "def hdg(u, ut, v, vt, w):\n",
    "    from skfem.helpers import grad, dot, jump\n",
    "    # outwards normal\n",
    "    n = jump(w, w.n)\n",
    "    return dot(n, grad(u)) * (vt - v) + dot(n, grad(v)) * (ut - u)\\\n",
    "        + 1e1 / w.h * (ut - u) * (vt - v)\n",
    "\n",
    "@LinearForm\n",
    "def load(v, vt, w):\n",
    "    return 1. * v\n",
    "\n",
    "A = asm(laplace, ibasis) + asm(hdg, tbasis)\n",
    "f = asm(load, ibasis)\n",
    "\n",
    "y = solve(*condense(A, f, D=ibasis.get_dofs()))\n",
    "\n",
    "(u1, ibasis1), (u2, ibasis2) = ibasis.split(y)\n",
    "\n",
    "def visualize():\n",
    "    from skfem.visuals.matplotlib import plot\n",
    "    return plot(ibasis2,\n",
    "                u2,\n",
    "                Nrefs=4,\n",
    "                colorbar=True,\n",
    "                shading='gouraud')\n",
    "\n",
    "if __name__ == '__main__':\n",
    "    visualize().show()\n"
   ]
  }
 ],
 "metadata": {},
 "nbformat": 4,
 "nbformat_minor": 4
}
